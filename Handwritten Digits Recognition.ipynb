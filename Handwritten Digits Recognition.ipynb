{
 "cells": [
  {
   "cell_type": "code",
   "execution_count": 1,
   "metadata": {},
   "outputs": [],
   "source": [
    "import numpy as np\n",
    "import pandas as pd\n",
    "import matplotlib as mpl\n",
    "import matplotlib.pyplot as plt\n",
    "import tensorflow as tf\n",
    "from tensorflow import keras\n",
    "import os"
   ]
  },
  {
   "cell_type": "code",
   "execution_count": 2,
   "metadata": {},
   "outputs": [],
   "source": [
    "original_dataset_dir = r\"C:\\Users\\92317\\Downloads\\archive (17)\\digits\""
   ]
  },
  {
   "cell_type": "code",
   "execution_count": 3,
   "metadata": {},
   "outputs": [],
   "source": [
    "base_dir = r'C:\\Users\\92317\\Downloads\\archive (17)\\digits-Split'"
   ]
  },
  {
   "cell_type": "code",
   "execution_count": 4,
   "metadata": {},
   "outputs": [],
   "source": [
    "from sklearn.model_selection import train_test_split"
   ]
  },
  {
   "cell_type": "code",
   "execution_count": 5,
   "metadata": {},
   "outputs": [],
   "source": [
    "train_dir = os.path.join(base_dir, 'train')\n",
    "val_dir = os.path.join(base_dir, 'val')"
   ]
  },
  {
   "cell_type": "code",
   "execution_count": 6,
   "metadata": {},
   "outputs": [],
   "source": [
    "for category in ['0', '1','2','3','4','5','6','7','8','9']:\n",
    "    os.makedirs(os.path.join(train_dir, category), exist_ok=True)\n",
    "    os.makedirs(os.path.join(val_dir, category), exist_ok=True)"
   ]
  },
  {
   "cell_type": "code",
   "execution_count": 7,
   "metadata": {},
   "outputs": [],
   "source": [
    "import numpy as np\n",
    "import shutil"
   ]
  },
  {
   "cell_type": "code",
   "execution_count": 8,
   "metadata": {},
   "outputs": [
    {
     "name": "stdout",
     "output_type": "stream",
     "text": [
      "Digit dataset split and copied successfully.\n"
     ]
    }
   ],
   "source": [
    "import os\n",
    "import shutil\n",
    "import numpy as np\n",
    "\n",
    "\n",
    "# Define the path to your dataset\n",
    "original_dataset_dir = r'C:\\Users\\92317\\Downloads\\archive (17)\\digits'  # Change to the path where your digit images are located\n",
    "base_dir = r'C:\\Users\\92317\\Downloads\\archive (17)\\digits-Split'  # Path where the split dataset will be stored\n",
    "\n",
    "\n",
    "# Directories for training, validation, and test splits\n",
    "train_dir = os.path.join(base_dir, 'train')\n",
    "val_dir = os.path.join(base_dir, 'val')\n",
    "test_dir = os.path.join(base_dir, 'test')\n",
    "\n",
    "# Create subdirectories for each class (digits 0-9) in each split directory\n",
    "for digit in range(10):  # Digits from 0 to 9\n",
    "    os.makedirs(os.path.join(train_dir, str(digit)), exist_ok=True)\n",
    "    os.makedirs(os.path.join(val_dir, str(digit)), exist_ok=True)\n",
    "    os.makedirs(os.path.join(test_dir, str(digit)), exist_ok=True)\n",
    "\n",
    "# Function to split and copy files\n",
    "def split_data(source_dir, train_dir, val_dir, test_dir, split_ratio=(0.7, 0.15, 0.15), seed=42):\n",
    "    np.random.seed(seed)\n",
    "    filenames = os.listdir(source_dir)\n",
    "    filenames = [f for f in filenames if os.path.isfile(os.path.join(source_dir, f))]\n",
    "    \n",
    "    # Shuffle filenames\n",
    "    np.random.shuffle(filenames)\n",
    "    \n",
    "    # Calculate split sizes\n",
    "    train_size = int(len(filenames) * split_ratio[0])\n",
    "    val_size = int(len(filenames) * split_ratio[1])\n",
    "    \n",
    "    # Split filenames\n",
    "    train_filenames = filenames[:train_size]\n",
    "    val_filenames = filenames[train_size:train_size + val_size]\n",
    "    test_filenames = filenames[train_size + val_size:]\n",
    "    \n",
    "    # Copy files to the respective directories\n",
    "    for filename in train_filenames:\n",
    "        shutil.copy(os.path.join(source_dir, filename), os.path.join(train_dir, filename))\n",
    "    for filename in val_filenames:\n",
    "        shutil.copy(os.path.join(source_dir, filename), os.path.join(val_dir, filename))\n",
    "    for filename in test_filenames:\n",
    "        shutil.copy(os.path.join(source_dir, filename), os.path.join(test_dir, filename))\n",
    "\n",
    "# Split data for each digit (0-9)\n",
    "for digit in range(10):\n",
    "    digit_dir = os.path.join(original_dataset_dir, str(digit))  # Source directory for the digit\n",
    "    split_data(digit_dir, os.path.join(train_dir, str(digit)), os.path.join(val_dir, str(digit)), os.path.join(test_dir, str(digit)))\n",
    "\n",
    "print(\"Digit dataset split and copied successfully.\")\n"
   ]
  },
  {
   "cell_type": "code",
   "execution_count": 9,
   "metadata": {},
   "outputs": [],
   "source": [
    "train_dir=r\"C:\\Users\\92317\\Downloads\\archive (17)\\digits-Split\\train\"\n",
    "validation_dir=r\"C:\\Users\\92317\\Downloads\\archive (17)\\digits-Split\\val\"\n",
    "test_dir=r\"C:\\Users\\92317\\Downloads\\archive (17)\\digits-Split\\test\""
   ]
  },
  {
   "cell_type": "code",
   "execution_count": 10,
   "metadata": {},
   "outputs": [],
   "source": [
    "from tensorflow.keras.preprocessing.image import ImageDataGenerator"
   ]
  },
  {
   "cell_type": "code",
   "execution_count": 11,
   "metadata": {},
   "outputs": [],
   "source": [
    "train_datagen=ImageDataGenerator(rescale=1./255)\n",
    "test_datagen=ImageDataGenerator(rescale=1./255)"
   ]
  },
  {
   "cell_type": "code",
   "execution_count": 15,
   "metadata": {},
   "outputs": [
    {
     "name": "stdout",
     "output_type": "stream",
     "text": [
      "Found 15085 images belonging to 10 classes.\n",
      "Found 3228 images belonging to 10 classes.\n"
     ]
    }
   ],
   "source": [
    "train_generator=train_datagen.flow_from_directory(\n",
    "\ttrain_dir,\n",
    "    target_size=(150,150),\n",
    "    batch_size=20,\n",
    "    class_mode=\"categorical\"\n",
    ")\n",
    "validation_generator=test_datagen.flow_from_directory(\n",
    "\tvalidation_dir,\n",
    "    target_size=(150,150),\n",
    "    batch_size=20,\n",
    "    class_mode=\"categorical\"\n",
    ")"
   ]
  },
  {
   "cell_type": "code",
   "execution_count": 16,
   "metadata": {},
   "outputs": [],
   "source": [
    "from tensorflow.keras import layers\n",
    "from tensorflow.keras import models"
   ]
  },
  {
   "cell_type": "code",
   "execution_count": 17,
   "metadata": {},
   "outputs": [],
   "source": [
    "model=models.Sequential()"
   ]
  },
  {
   "cell_type": "code",
   "execution_count": 22,
   "metadata": {},
   "outputs": [],
   "source": [
    "# Define a simple CNN model\n",
    "model = models.Sequential()\n",
    "\n",
    "model.add(layers.Conv2D(32, (3, 3), activation='relu', input_shape=(150, 150, 3)))\n",
    "model.add(layers.MaxPooling2D((2, 2)))\n",
    "model.add(layers.Conv2D(64, (3, 3), activation='relu'))\n",
    "model.add(layers.MaxPooling2D((2, 2)))\n",
    "model.add(layers.Conv2D(128, (3, 3), activation='relu'))\n",
    "model.add(layers.MaxPooling2D((2, 2)))\n",
    "\n",
    "model.add(layers.Flatten())\n",
    "model.add(layers.Dense(512, activation='relu'))\n",
    "model.add(layers.Dense(10, activation='softmax'))  # 10 classes for digits 0-9"
   ]
  },
  {
   "cell_type": "code",
   "execution_count": 23,
   "metadata": {},
   "outputs": [],
   "source": [
    "# Compile the model\n",
    "model.compile(optimizer='adam',\n",
    "              loss='categorical_crossentropy',\n",
    "              metrics=['accuracy'])"
   ]
  },
  {
   "cell_type": "code",
   "execution_count": 25,
   "metadata": {},
   "outputs": [
    {
     "data": {
      "text/plain": [
       "3228"
      ]
     },
     "execution_count": 25,
     "metadata": {},
     "output_type": "execute_result"
    }
   ],
   "source": [
    "total_validation_samples = validation_generator.samples\n",
    "total_validation_samples"
   ]
  },
  {
   "cell_type": "code",
   "execution_count": 26,
   "metadata": {},
   "outputs": [
    {
     "data": {
      "text/plain": [
       "20"
      ]
     },
     "execution_count": 26,
     "metadata": {},
     "output_type": "execute_result"
    }
   ],
   "source": [
    "batch_size = validation_generator.batch_size\n",
    "batch_size"
   ]
  },
  {
   "cell_type": "code",
   "execution_count": 27,
   "metadata": {},
   "outputs": [
    {
     "data": {
      "text/plain": [
       "162"
      ]
     },
     "execution_count": 27,
     "metadata": {},
     "output_type": "execute_result"
    }
   ],
   "source": [
    "validation_steps = np.ceil(total_validation_samples / batch_size).astype(int)\n",
    "validation_steps"
   ]
  },
  {
   "cell_type": "code",
   "execution_count": 28,
   "metadata": {},
   "outputs": [
    {
     "name": "stdout",
     "output_type": "stream",
     "text": [
      "Epoch 1/20\n",
      "140/140 [==============================] - 177s 1s/step - loss: 1.9819 - accuracy: 0.3507 - val_loss: 1.4309 - val_accuracy: 0.5527\n",
      "Epoch 2/20\n",
      "140/140 [==============================] - 149s 1s/step - loss: 1.0591 - accuracy: 0.6693 - val_loss: 0.8277 - val_accuracy: 0.7515\n",
      "Epoch 3/20\n",
      "140/140 [==============================] - 149s 1s/step - loss: 0.6489 - accuracy: 0.8029 - val_loss: 0.5632 - val_accuracy: 0.8268\n",
      "Epoch 4/20\n",
      "140/140 [==============================] - 147s 1s/step - loss: 0.4626 - accuracy: 0.8661 - val_loss: 0.5033 - val_accuracy: 0.8426\n",
      "Epoch 5/20\n",
      "140/140 [==============================] - 147s 1s/step - loss: 0.3320 - accuracy: 0.9018 - val_loss: 0.4762 - val_accuracy: 0.8519\n",
      "Epoch 6/20\n",
      "140/140 [==============================] - 146s 1s/step - loss: 0.2735 - accuracy: 0.9189 - val_loss: 0.3028 - val_accuracy: 0.9160\n",
      "Epoch 7/20\n",
      "140/140 [==============================] - 147s 1s/step - loss: 0.2112 - accuracy: 0.9321 - val_loss: 0.3057 - val_accuracy: 0.9145\n",
      "Epoch 8/20\n",
      "140/140 [==============================] - 145s 1s/step - loss: 0.1941 - accuracy: 0.9407 - val_loss: 0.2854 - val_accuracy: 0.9154\n",
      "Epoch 9/20\n",
      "140/140 [==============================] - 144s 1s/step - loss: 0.1959 - accuracy: 0.9457 - val_loss: 0.3399 - val_accuracy: 0.8987\n",
      "Epoch 10/20\n",
      "140/140 [==============================] - 144s 1s/step - loss: 0.1440 - accuracy: 0.9557 - val_loss: 0.2573 - val_accuracy: 0.9210\n",
      "Epoch 11/20\n",
      "140/140 [==============================] - 142s 1s/step - loss: 0.1289 - accuracy: 0.9634 - val_loss: 0.3267 - val_accuracy: 0.8978\n",
      "Epoch 12/20\n",
      "140/140 [==============================] - 150s 1s/step - loss: 0.1472 - accuracy: 0.9582 - val_loss: 0.2366 - val_accuracy: 0.9306\n",
      "Epoch 13/20\n",
      "140/140 [==============================] - 58698s 422s/step - loss: 0.0899 - accuracy: 0.9793 - val_loss: 0.2480 - val_accuracy: 0.9300\n",
      "Epoch 14/20\n",
      "140/140 [==============================] - 160s 1s/step - loss: 0.0787 - accuracy: 0.9763 - val_loss: 0.2447 - val_accuracy: 0.9334\n",
      "Epoch 15/20\n",
      "140/140 [==============================] - 170s 1s/step - loss: 0.0823 - accuracy: 0.9718 - val_loss: 0.2040 - val_accuracy: 0.9436\n",
      "Epoch 16/20\n",
      "140/140 [==============================] - 157s 1s/step - loss: 0.0783 - accuracy: 0.9789 - val_loss: 0.2422 - val_accuracy: 0.9337\n",
      "Epoch 17/20\n",
      "140/140 [==============================] - 180s 1s/step - loss: 0.0866 - accuracy: 0.9746 - val_loss: 0.1982 - val_accuracy: 0.9393\n",
      "Epoch 18/20\n",
      "140/140 [==============================] - 372s 3s/step - loss: 0.0623 - accuracy: 0.9821 - val_loss: 0.2314 - val_accuracy: 0.9343\n",
      "Epoch 19/20\n",
      "140/140 [==============================] - 193s 1s/step - loss: 0.0492 - accuracy: 0.9857 - val_loss: 0.2046 - val_accuracy: 0.9439\n",
      "Epoch 20/20\n",
      "140/140 [==============================] - 181s 1s/step - loss: 0.0408 - accuracy: 0.9874 - val_loss: 0.2021 - val_accuracy: 0.9445\n"
     ]
    }
   ],
   "source": [
    "his_ = model.fit(\n",
    "    train_generator,\n",
    "    steps_per_epoch=140,\n",
    "    epochs=20,\n",
    "    validation_data=validation_generator,\n",
    "    validation_steps=162,  # Ensure this covers the entire validation set\n",
    ")\n"
   ]
  },
  {
   "cell_type": "code",
   "execution_count": 29,
   "metadata": {},
   "outputs": [
    {
     "data": {
      "image/png": "[encoded data removed]",
      "text/plain": [
       "<Figure size 800x500 with 1 Axes>"
      ]
     },
     "metadata": {},
     "output_type": "display_data"
    }
   ],
   "source": [
    "pd.DataFrame(his_.history).plot(figsize=(8,5))\n",
    "plt.grid(True)\n",
    "plt.gca().set_ylim(0,1)\n",
    "plt.show()"
   ]
  },
  {
   "cell_type": "code",
   "execution_count": 30,
   "metadata": {},
   "outputs": [
    {
     "name": "stderr",
     "output_type": "stream",
     "text": [
      "c:\\Users\\92317\\Desktop\\ML\\sklearn-env\\lib\\site-packages\\keras\\src\\engine\\training.py:3000: UserWarning: You are saving your model as an HDF5 file via `model.save()`. This file format is considered legacy. We recommend using instead the native Keras format, e.g. `model.save('my_model.keras')`.\n",
      "  saving_api.save_model(\n"
     ]
    }
   ],
   "source": [
    "model.save(\"handwritting.h5\")"
   ]
  },
  {
   "cell_type": "code",
   "execution_count": 36,
   "metadata": {},
   "outputs": [
    {
     "name": "stdout",
     "output_type": "stream",
     "text": [
      "1/1 [==============================] - 0s 162ms/step\n",
      "1/1 [==============================] - 0s 52ms/step\n",
      "1/1 [==============================] - 0s 52ms/step\n",
      "1/1 [==============================] - 0s 78ms/step\n",
      "1/1 [==============================] - 0s 85ms/step\n",
      "1/1 [==============================] - 0s 50ms/step\n",
      "1/1 [==============================] - 0s 52ms/step\n",
      "1/1 [==============================] - 0s 77ms/step\n",
      "1/1 [==============================] - 0s 87ms/step\n",
      "1/1 [==============================] - 0s 50ms/step\n"
     ]
    },
    {
     "data": {
      "image/png": "[encoded data removed]",
      "text/plain": [
       "<Figure size 1000x1000 with 1 Axes>"
      ]
     },
     "metadata": {},
     "output_type": "display_data"
    },
    {
     "name": "stdout",
     "output_type": "stream",
     "text": [
      "Predicted digits: [0, 0, 1, 2, 4, 5, 7, 8, 9, 9]\n"
     ]
    }
   ],
   "source": [
    "import numpy as np\n",
    "import cv2\n",
    "from tensorflow.keras.models import load_model\n",
    "import matplotlib.pyplot as plt\n",
    "\n",
    "# Load the pre-trained model\n",
    "model = load_model('handwritting.h5')\n",
    "\n",
    "# Load the test image (replace with the path to your image)\n",
    "image_path = r'C:\\Users\\92317\\Desktop\\ML\\testimg.PNG'  # Update with your image path\n",
    "image = cv2.imread(image_path)\n",
    "\n",
    "# Convert to grayscale (since digits are black on white background)\n",
    "gray = cv2.cvtColor(image, cv2.COLOR_BGR2GRAY)\n",
    "\n",
    "# Apply threshold to make the digits stand out\n",
    "_, thresh = cv2.threshold(gray, 128, 255, cv2.THRESH_BINARY_INV)\n",
    "\n",
    "# Find contours of the digits\n",
    "contours, _ = cv2.findContours(thresh, cv2.RETR_EXTERNAL, cv2.CHAIN_APPROX_SIMPLE)\n",
    "\n",
    "# Initialize a list to store predicted digits\n",
    "predicted_digits = []\n",
    "\n",
    "# Loop through each contour found (each should correspond to a digit)\n",
    "for contour in contours:\n",
    "    # Get the bounding box around each contour\n",
    "    x, y, w, h = cv2.boundingRect(contour)\n",
    "    \n",
    "    # Extract the region of interest (the digit)\n",
    "    digit = gray[y:y+h, x:x+w]\n",
    "    \n",
    "    # Resize the digit image to 150x150 pixels (as required by the model)\n",
    "    digit_resized = cv2.resize(digit, (150, 150))\n",
    "    \n",
    "    # Convert to 3-channel RGB (the model expects 3 channels)\n",
    "    digit_resized = cv2.cvtColor(digit_resized, cv2.COLOR_GRAY2RGB)\n",
    "    \n",
    "    # Normalize the image\n",
    "    digit_resized = digit_resized / 255.0\n",
    "    \n",
    "    # Reshape the image to (1, 150, 150, 3) as expected by the model\n",
    "    digit_resized = np.reshape(digit_resized, (1, 150, 150, 3))\n",
    "    \n",
    "    # Predict the digit using the CNN model\n",
    "    prediction = model.predict(digit_resized)\n",
    "    predicted_class = np.argmax(prediction, axis=1)\n",
    "    \n",
    "    # Append the predicted digit to the list\n",
    "    predicted_digits.append(predicted_class[0])\n",
    "    \n",
    "    # Draw the predicted digit on the image (optional, for visualization)\n",
    "    cv2.putText(image, str(predicted_class[0]), (x, y-10), cv2.FONT_HERSHEY_SIMPLEX, 1, (0, 255, 0), 2)\n",
    "    cv2.rectangle(image, (x, y), (x + w, y + h), (255, 0, 0), 2)\n",
    "\n",
    "# Display the image with predicted digits\n",
    "plt.figure(figsize=(10,10))\n",
    "plt.imshow(cv2.cvtColor(image, cv2.COLOR_BGR2RGB))\n",
    "plt.axis('off')\n",
    "plt.show()\n",
    "\n",
    "# Print the predicted digits in the image\n",
    "print(\"Predicted digits:\", sorted(predicted_digits))\n"
   ]
  }
 ],
 "metadata": {
  "kernelspec": {
   "display_name": "sklearn-env",
   "language": "python",
   "name": "python3"
  },
  "language_info": {
   "codemirror_mode": {
    "name": "ipython",
    "version": 3
   },
   "file_extension": ".py",
   "mimetype": "text/x-python",
   "name": "python",
   "nbconvert_exporter": "python",
   "pygments_lexer": "ipython3",
   "version": "3.8.0"
  }
 },
 "nbformat": 4,
 "nbformat_minor": 2
}
